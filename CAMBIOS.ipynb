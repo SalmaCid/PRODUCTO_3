{
 "cells": [
  {
   "cell_type": "code",
   "execution_count": 150,
   "id": "4e112ae0",
   "metadata": {},
   "outputs": [],
   "source": [
    "path= 'C:/covid2020/'"
   ]
  },
  {
   "cell_type": "code",
   "execution_count": 151,
   "id": "084ceb6a",
   "metadata": {},
   "outputs": [],
   "source": [
    "import pandas as pd"
   ]
  },
  {
   "cell_type": "code",
   "execution_count": 152,
   "id": "00ce7f77",
   "metadata": {},
   "outputs": [],
   "source": [
    "dfChiapas=pd.read_csv(path + \"hidalgo01.csv\",low_memory=False)"
   ]
  },
  {
   "cell_type": "code",
   "execution_count": 153,
   "id": "dea22001",
   "metadata": {},
   "outputs": [
    {
     "data": {
      "text/plain": [
       "FECHA_ACTUALIZACION      object\n",
       "ID_REGISTRO              object\n",
       "ORIGEN                    int64\n",
       "SECTOR                    int64\n",
       "ENTIDAD_UM                int64\n",
       "SEXO                      int64\n",
       "ENTIDAD_NAC               int64\n",
       "ENTIDAD_RES               int64\n",
       "MUNICIPIO_RES             int64\n",
       "TIPO_PACIENTE             int64\n",
       "FECHA_INGRESO            object\n",
       "FECHA_SINTOMAS           object\n",
       "FECHA_DEF                object\n",
       "INTUBADO                  int64\n",
       "NEUMONIA                  int64\n",
       "EDAD                      int64\n",
       "NACIONALIDAD              int64\n",
       "EMBARAZO                  int64\n",
       "HABLA_LENGUA_INDIG        int64\n",
       "INDIGENA                  int64\n",
       "DIABETES                  int64\n",
       "EPOC                      int64\n",
       "ASMA                      int64\n",
       "INMUSUPR                  int64\n",
       "HIPERTENSION              int64\n",
       "OTRA_COM                  int64\n",
       "CARDIOVASCULAR            int64\n",
       "OBESIDAD                  int64\n",
       "RENAL_CRONICA             int64\n",
       "TABAQUISMO                int64\n",
       "OTRO_CASO                 int64\n",
       "TOMA_MUESTRA_LAB          int64\n",
       "RESULTADO_LAB             int64\n",
       "TOMA_MUESTRA_ANTIGENO     int64\n",
       "RESULTADO_ANTIGENO        int64\n",
       "CLASIFICACION_FINAL       int64\n",
       "MIGRANTE                  int64\n",
       "PAIS_NACIONALIDAD        object\n",
       "PAIS_ORIGEN              object\n",
       "UCI                       int64\n",
       "dtype: object"
      ]
     },
     "execution_count": 153,
     "metadata": {},
     "output_type": "execute_result"
    }
   ],
   "source": [
    "dfChiapas.dtypes"
   ]
  },
  {
   "cell_type": "code",
   "execution_count": 154,
   "id": "79347fc2",
   "metadata": {},
   "outputs": [],
   "source": [
    "dfChiapas['SEXO'] = dfChiapas['SEXO'].astype('string')\n",
    "dfChiapas['SEXO'] = dfChiapas['SEXO'].replace([\"1\"], [\"Femenino\"])\n",
    "dfChiapas['SEXO'] = dfChiapas['SEXO'].replace([\"2\"], [\"Masculino\"])\n",
    "dfChiapas['SEXO'] = dfChiapas['SEXO'].replace([\"99\"], [\"NO ESPECIFICADO\"])"
   ]
  },
  {
   "cell_type": "code",
   "execution_count": 155,
   "id": "57a16170",
   "metadata": {},
   "outputs": [
    {
     "data": {
      "text/plain": [
       "string[python]"
      ]
     },
     "execution_count": 155,
     "metadata": {},
     "output_type": "execute_result"
    }
   ],
   "source": [
    "dfChiapas['SEXO'].dtype"
   ]
  },
  {
   "cell_type": "code",
   "execution_count": null,
   "id": "8a3f6b5e",
   "metadata": {},
   "outputs": [],
   "source": []
  },
  {
   "cell_type": "code",
   "execution_count": 156,
   "id": "620f3eee",
   "metadata": {},
   "outputs": [],
   "source": [
    "dfChiapas['ORIGEN'] = dfChiapas['ORIGEN'].astype('string')\n",
    "dfChiapas['ORIGEN'] = dfChiapas['ORIGEN'].replace([\"1\"], [\"USMER\"])\n",
    "dfChiapas['ORIGEN'] = dfChiapas['ORIGEN'].replace([\"2\"], [\"FUERA DE USMER\"])\n",
    "dfChiapas['ORIGEN'] = dfChiapas['ORIGEN'].replace([\"99\"], [\"NO ESPECIFICADO\"])"
   ]
  },
  {
   "cell_type": "code",
   "execution_count": 157,
   "id": "1f91e381",
   "metadata": {},
   "outputs": [
    {
     "data": {
      "text/plain": [
       "string[python]"
      ]
     },
     "execution_count": 157,
     "metadata": {},
     "output_type": "execute_result"
    }
   ],
   "source": [
    "dfChiapas['ORIGEN'].dtype"
   ]
  },
  {
   "cell_type": "code",
   "execution_count": 158,
   "id": "409c3f56",
   "metadata": {},
   "outputs": [],
   "source": [
    "dfChiapas['SECTOR'] = dfChiapas['SECTOR'].astype('string')\n",
    "dfChiapas['SECTOR'] = dfChiapas['SECTOR'].replace([\"1\"], [\"CRUZ ROJA\"])\n",
    "dfChiapas['SECTOR'] = dfChiapas['SECTOR'].replace([\"2\"], [\"DIF\"])\n",
    "dfChiapas['SECTOR'] = dfChiapas['SECTOR'].replace([\"3\"], [\"ESTATAL\"])\n",
    "dfChiapas['SECTOR'] = dfChiapas['SECTOR'].replace([\"4\"], [\"IMSS\"])\n",
    "dfChiapas['SECTOR'] = dfChiapas['SECTOR'].replace([\"5\"], [\"IMSS-BIENESTAR\"])\n",
    "dfChiapas['SECTOR'] = dfChiapas['SECTOR'].replace([\"6\"], [\"ISSSTE\"])\n",
    "dfChiapas['SECTOR'] = dfChiapas['SECTOR'].replace([\"7\"], [\"MUNICIPAL\"])\n",
    "dfChiapas['SECTOR'] = dfChiapas['SECTOR'].replace([\"8\"], [\"PEMEX\"])\n",
    "dfChiapas['SECTOR'] = dfChiapas['SECTOR'].replace([\"9\"], [\"PRIVADA\"])\n",
    "dfChiapas['SECTOR'] = dfChiapas['SECTOR'].replace([\"10\"], [\"SEDENA\"])\n",
    "dfChiapas['SECTOR'] = dfChiapas['SECTOR'].replace([\"11\"], [\"SEMAR\"])\n",
    "dfChiapas['SECTOR'] = dfChiapas['SECTOR'].replace([\"12\"], [\"SSA\"])\n",
    "dfChiapas['SECTOR'] = dfChiapas['SECTOR'].replace([\"13\"], [\"UNIVERSITARIO\"])\n",
    "dfChiapas['SECTOR'] = dfChiapas['SECTOR'].replace([\"99\"], [\"NO ESPECIFICADO\"])"
   ]
  },
  {
   "cell_type": "code",
   "execution_count": 159,
   "id": "f436f157",
   "metadata": {},
   "outputs": [
    {
     "data": {
      "text/plain": [
       "string[python]"
      ]
     },
     "execution_count": 159,
     "metadata": {},
     "output_type": "execute_result"
    }
   ],
   "source": [
    "dfChiapas['SECTOR'].dtype"
   ]
  },
  {
   "cell_type": "code",
   "execution_count": 160,
   "id": "14d5cb53",
   "metadata": {},
   "outputs": [],
   "source": [
    "dfChiapas['TIPO_PACIENTE'] = dfChiapas['TIPO_PACIENTE'].astype('string')\n",
    "dfChiapas['TIPO_PACIENTE'] = dfChiapas['TIPO_PACIENTE'].replace([\"1\"], [\"AMBULATORIO\"])\n",
    "dfChiapas['TIPO_PACIENTE'] = dfChiapas['TIPO_PACIENTE'].replace([\"2\"], [\"HOSPITALIZADO\"])\n",
    "dfChiapas['TIPO_PACIENTE'] = dfChiapas['TIPO_PACIENTE'].replace([\"99\"], [\"NO ESPECIFICADO\"])"
   ]
  },
  {
   "cell_type": "code",
   "execution_count": 161,
   "id": "fdb68e9f",
   "metadata": {},
   "outputs": [
    {
     "data": {
      "text/plain": [
       "string[python]"
      ]
     },
     "execution_count": 161,
     "metadata": {},
     "output_type": "execute_result"
    }
   ],
   "source": [
    "dfChiapas['TIPO_PACIENTE'].dtype"
   ]
  },
  {
   "cell_type": "code",
   "execution_count": 162,
   "id": "ffa1d030",
   "metadata": {},
   "outputs": [],
   "source": [
    "dfChiapas['NACIONALIDAD'] = dfChiapas['NACIONALIDAD'].astype('string')\n",
    "dfChiapas['NACIONALIDAD'] = dfChiapas['NACIONALIDAD'].replace([\"1\"], [\"MEXICANA\"])\n",
    "dfChiapas['NACIONALIDAD'] = dfChiapas['NACIONALIDAD'].replace([\"2\"], [\"EXTRANJERA\"])\n",
    "dfChiapas['NACIONALIDAD'] = dfChiapas['NACIONALIDAD'].replace([\"99\"], [\"NO ESPECIFICADO\"])"
   ]
  },
  {
   "cell_type": "code",
   "execution_count": 163,
   "id": "b9792087",
   "metadata": {},
   "outputs": [
    {
     "data": {
      "text/plain": [
       "string[python]"
      ]
     },
     "execution_count": 163,
     "metadata": {},
     "output_type": "execute_result"
    }
   ],
   "source": [
    "dfChiapas['NACIONALIDAD'].dtype"
   ]
  },
  {
   "cell_type": "code",
   "execution_count": 164,
   "id": "350cb39c",
   "metadata": {},
   "outputs": [],
   "source": [
    "dfChiapas['RESULTADO_LAB'] = dfChiapas['RESULTADO_LAB'].astype('string')\n",
    "dfChiapas['RESULTADO_LAB'] = dfChiapas['RESULTADO_LAB'].replace([\"1\"], [\"POSITIVO A SARS-COV-2\"])\n",
    "dfChiapas['RESULTADO_LAB'] = dfChiapas['RESULTADO_LAB'].replace([\"2\"], [\"NO POSITIVO A SARS-COV-2\"])\n",
    "dfChiapas['RESULTADO_LAB'] = dfChiapas['RESULTADO_LAB'].replace([\"3\"], [\"RESULTADO PENDIENTE\"])\n",
    "dfChiapas['RESULTADO_LAB'] = dfChiapas['RESULTADO_LAB'].replace([\"4\"], [\"RESULTADO NO ADECUADO \"])\n",
    "dfChiapas['RESULTADO_LAB'] = dfChiapas['RESULTADO_LAB'].replace([\"97\"], [\"NO APLICA (CASO SIN MUESTRA)\"])"
   ]
  },
  {
   "cell_type": "code",
   "execution_count": 165,
   "id": "4fb7e632",
   "metadata": {},
   "outputs": [
    {
     "data": {
      "text/plain": [
       "string[python]"
      ]
     },
     "execution_count": 165,
     "metadata": {},
     "output_type": "execute_result"
    }
   ],
   "source": [
    "dfChiapas['ORIGEN'].dtype"
   ]
  },
  {
   "cell_type": "code",
   "execution_count": 166,
   "id": "525275b1",
   "metadata": {},
   "outputs": [],
   "source": [
    "dfChiapas['RESULTADO_ANTIGENO'] = dfChiapas['RESULTADO_ANTIGENO'].astype('string')\n",
    "dfChiapas['RESULTADO_ANTIGENO'] = dfChiapas['RESULTADO_ANTIGENO'].replace([\"1\"], [\"POSITIVO A SARS-COV-2\"])\n",
    "dfChiapas['RESULTADO_ANTIGENO'] = dfChiapas['RESULTADO_ANTIGENO'].replace([\"2\"], [\"NEGATIVO A SARS-COV-2\"])\n",
    "dfChiapas['RESULTADO_ANTIGENO'] = dfChiapas['RESULTADO_ANTIGENO'].replace([\"97\"], [\"NO APLICA (CASO SIN MUESTRA)\"])"
   ]
  },
  {
   "cell_type": "code",
   "execution_count": 167,
   "id": "a5dfba5b",
   "metadata": {},
   "outputs": [
    {
     "data": {
      "text/plain": [
       "string[python]"
      ]
     },
     "execution_count": 167,
     "metadata": {},
     "output_type": "execute_result"
    }
   ],
   "source": [
    "dfChiapas['RESULTADO_ANTIGENO'].dtype"
   ]
  },
  {
   "cell_type": "code",
   "execution_count": 168,
   "id": "b52b6499",
   "metadata": {},
   "outputs": [],
   "source": [
    "dfChiapas['CLASIFICACION_FINAL'] = dfChiapas['CLASIFICACION_FINAL'].astype('string')\n",
    "dfChiapas['CLASIFICACION_FINAL'] = dfChiapas['CLASIFICACION_FINAL'].replace([\"1\"], [\"CASO DE COVID-19 CONFIRMADO POR ASOCIACION CLINICA EPIDEMIOLOGICA\"])\n",
    "dfChiapas['CLASIFICACION_FINAL'] = dfChiapas['CLASIFICACION_FINAL'].replace([\"2\"], [\"CASO DE COVID-19 CONFIRMADO POR COMITE DE  DICTAMINACION\"])\n",
    "dfChiapas['CLASIFICACION_FINAL'] = dfChiapas['CLASIFICACION_FINAL'].replace([\"3\"], [\"CASO DE SARS-COV-2  CONFIRMADO\"])\n",
    "dfChiapas['CLASIFICACION_FINAL'] = dfChiapas['CLASIFICACION_FINAL'].replace([\"4\"], [\"INVALIDO POR LABORATORIO\"])\n",
    "dfChiapas['CLASIFICACION_FINAL'] = dfChiapas['CLASIFICACION_FINAL'].replace([\"5\"], [\"NO REALIZADO POR LABORATORIO\"])\n",
    "dfChiapas['CLASIFICACION_FINAL'] = dfChiapas['CLASIFICACION_FINAL'].replace([\"6\"], [\"CASO SOSPECHOSO\"])\n",
    "dfChiapas['CLASIFICACION_FINAL'] = dfChiapas['CLASIFICACION_FINAL'].replace([\"7\"], [\"NEGATIVO A SARS-COV-2\"])"
   ]
  },
  {
   "cell_type": "code",
   "execution_count": 169,
   "id": "48d56164",
   "metadata": {},
   "outputs": [
    {
     "data": {
      "text/plain": [
       "string[python]"
      ]
     },
     "execution_count": 169,
     "metadata": {},
     "output_type": "execute_result"
    }
   ],
   "source": [
    "dfChiapas['CLASIFICACION_FINAL'].dtype"
   ]
  },
  {
   "cell_type": "code",
   "execution_count": 170,
   "id": "2a2d94c4",
   "metadata": {},
   "outputs": [],
   "source": [
    "dfChiapas['INTUBADO'] = dfChiapas['INTUBADO'].astype('string')\n",
    "dfChiapas['INTUBADO'] = dfChiapas['INTUBADO'].replace([\"1\"], [\"SI\"])\n",
    "dfChiapas['INTUBADO'] = dfChiapas['INTUBADO'].replace([\"2\"], [\"NO\"])\n",
    "dfChiapas['INTUBADO'] = dfChiapas['INTUBADO'].replace([\"97\"], [\"NO APLICA\"])\n",
    "dfChiapas['INTUBADO'] = dfChiapas['INTUBADO'].replace([\"98\"], [\"SE IGNORA\"])\n",
    "dfChiapas['INTUBADO'] = dfChiapas['INTUBADO'].replace([\"99\"], [\"NO ESPECIFICADO\"])"
   ]
  },
  {
   "cell_type": "code",
   "execution_count": 171,
   "id": "7c7cb8a5",
   "metadata": {},
   "outputs": [
    {
     "data": {
      "text/plain": [
       "string[python]"
      ]
     },
     "execution_count": 171,
     "metadata": {},
     "output_type": "execute_result"
    }
   ],
   "source": [
    "dfChiapas['INTUBADO'].dtype"
   ]
  },
  {
   "cell_type": "code",
   "execution_count": 172,
   "id": "b2b9db00",
   "metadata": {},
   "outputs": [],
   "source": [
    "dfChiapas['NEUMONIA'] = dfChiapas['NEUMONIA'].astype('string')\n",
    "dfChiapas['NEUMONIA'] = dfChiapas['NEUMONIA'].replace([\"1\"], [\"SI\"])\n",
    "dfChiapas['NEUMONIA'] = dfChiapas['NEUMONIA'].replace([\"2\"], [\"NO\"])\n",
    "dfChiapas['NEUMONIA'] = dfChiapas['NEUMONIA'].replace([\"97\"], [\"NO APLICA\"])\n",
    "dfChiapas['NEUMONIA'] = dfChiapas['NEUMONIA'].replace([\"98\"], [\"SE IGNORA\"])\n",
    "dfChiapas['NEUMONIA'] = dfChiapas['NEUMONIA'].replace([\"99\"], [\"NO ESPECIFICADO\"])"
   ]
  },
  {
   "cell_type": "code",
   "execution_count": 173,
   "id": "21dbd115",
   "metadata": {},
   "outputs": [],
   "source": [
    "dfChiapas['EMBARAZO'] = dfChiapas['EMBARAZO'].astype('string')\n",
    "dfChiapas['EMBARAZO'] = dfChiapas['EMBARAZO'].replace([\"1\"], [\"SI\"])\n",
    "dfChiapas['EMBARAZO'] = dfChiapas['EMBARAZO'].replace([\"2\"], [\"NO\"])\n",
    "dfChiapas['EMBARAZO'] = dfChiapas['EMBARAZO'].replace([\"97\"], [\"NO APLICA\"])\n",
    "dfChiapas['EMBARAZO'] = dfChiapas['EMBARAZO'].replace([\"98\"], [\"SE IGNORA\"])\n",
    "dfChiapas['EMBARAZO'] = dfChiapas['EMBARAZO'].replace([\"99\"], [\"NO ESPECIFICADO\"])"
   ]
  },
  {
   "cell_type": "code",
   "execution_count": 174,
   "id": "1baad26f",
   "metadata": {},
   "outputs": [],
   "source": [
    "dfChiapas['HABLA_LENGUA_INDIG'] = dfChiapas['HABLA_LENGUA_INDIG'].astype('string')\n",
    "dfChiapas['HABLA_LENGUA_INDIG'] = dfChiapas['HABLA_LENGUA_INDIG'].replace([\"1\"], [\"SI\"])\n",
    "dfChiapas['HABLA_LENGUA_INDIG'] = dfChiapas['HABLA_LENGUA_INDIG'].replace([\"2\"], [\"NO\"])\n",
    "dfChiapas['HABLA_LENGUA_INDIG'] = dfChiapas['HABLA_LENGUA_INDIG'].replace([\"97\"], [\"NO APLICA\"])\n",
    "dfChiapas['HABLA_LENGUA_INDIG'] = dfChiapas['HABLA_LENGUA_INDIG'].replace([\"98\"], [\"SE IGNORA\"])\n",
    "dfChiapas['HABLA_LENGUA_INDIG'] = dfChiapas['HABLA_LENGUA_INDIG'].replace([\"99\"], [\"NO ESPECIFICADO\"])"
   ]
  },
  {
   "cell_type": "code",
   "execution_count": 175,
   "id": "9f5abe9a",
   "metadata": {},
   "outputs": [],
   "source": [
    "dfChiapas['INDIGENA'] = dfChiapas['INDIGENA'].astype('string')\n",
    "dfChiapas['INDIGENA'] = dfChiapas['INDIGENA'].replace([\"1\"], [\"SI\"])\n",
    "dfChiapas['INDIGENA'] = dfChiapas['INDIGENA'].replace([\"2\"], [\"NO\"])\n",
    "dfChiapas['INDIGENA'] = dfChiapas['INDIGENA'].replace([\"97\"], [\"NO APLICA\"])\n",
    "dfChiapas['INDIGENA'] = dfChiapas['INDIGENA'].replace([\"98\"], [\"SE IGNORA\"])\n",
    "dfChiapas['INDIGENA'] = dfChiapas['INDIGENA'].replace([\"99\"], [\"NO ESPECIFICADO\"])"
   ]
  },
  {
   "cell_type": "code",
   "execution_count": 176,
   "id": "fa9c66d7",
   "metadata": {},
   "outputs": [],
   "source": [
    "dfChiapas['DIABETES'] = dfChiapas['DIABETES'].astype('string')\n",
    "dfChiapas['DIABETES'] = dfChiapas['DIABETES'].replace([\"1\"], [\"SI\"])\n",
    "dfChiapas['DIABETES'] = dfChiapas['DIABETES'].replace([\"2\"], [\"NO\"])\n",
    "dfChiapas['DIABETES'] = dfChiapas['DIABETES'].replace([\"97\"], [\"NO APLICA\"])\n",
    "dfChiapas['DIABETES'] = dfChiapas['DIABETES'].replace([\"98\"], [\"SE IGNORA\"])\n",
    "dfChiapas['DIABETES'] = dfChiapas['DIABETES'].replace([\"99\"], [\"NO ESPECIFICADO\"])"
   ]
  },
  {
   "cell_type": "code",
   "execution_count": 177,
   "id": "f85793c8",
   "metadata": {},
   "outputs": [],
   "source": [
    "dfChiapas['EPOC'] = dfChiapas['EPOC'].astype('string')\n",
    "dfChiapas['EPOC'] = dfChiapas['EPOC'].replace([\"1\"], [\"SI\"])\n",
    "dfChiapas['EPOC'] = dfChiapas['EPOC'].replace([\"2\"], [\"NO\"])\n",
    "dfChiapas['EPOC'] = dfChiapas['EPOC'].replace([\"97\"], [\"NO APLICA\"])\n",
    "dfChiapas['EPOC'] = dfChiapas['EPOC'].replace([\"98\"], [\"SE IGNORA\"])\n",
    "dfChiapas['EPOC'] = dfChiapas['EPOC'].replace([\"99\"], [\"NO ESPECIFICADO\"])"
   ]
  },
  {
   "cell_type": "code",
   "execution_count": 178,
   "id": "0e74ba7d",
   "metadata": {},
   "outputs": [],
   "source": [
    "dfChiapas['ASMA'] = dfChiapas['ASMA'].astype('string')\n",
    "dfChiapas['ASMA'] = dfChiapas['ASMA'].replace([\"1\"], [\"SI\"])\n",
    "dfChiapas['ASMA'] = dfChiapas['ASMA'].replace([\"2\"], [\"NO\"])\n",
    "dfChiapas['ASMA'] = dfChiapas['ASMA'].replace([\"97\"], [\"NO APLICA\"])\n",
    "dfChiapas['ASMA'] = dfChiapas['ASMA'].replace([\"98\"], [\"SE IGNORA\"])\n",
    "dfChiapas['ASMA'] = dfChiapas['ASMA'].replace([\"99\"], [\"NO ESPECIFICADO\"])"
   ]
  },
  {
   "cell_type": "code",
   "execution_count": 179,
   "id": "426523f0",
   "metadata": {},
   "outputs": [],
   "source": [
    "dfChiapas['INMUSUPR'] = dfChiapas['INMUSUPR'].astype('string')\n",
    "dfChiapas['INMUSUPR'] = dfChiapas['INMUSUPR'].replace([\"1\"], [\"SI\"])\n",
    "dfChiapas['INMUSUPR'] = dfChiapas['INMUSUPR'].replace([\"2\"], [\"NO\"])\n",
    "dfChiapas['INMUSUPR'] = dfChiapas['INMUSUPR'].replace([\"97\"], [\"NO APLICA\"])\n",
    "dfChiapas['INMUSUPR'] = dfChiapas['INMUSUPR'].replace([\"98\"], [\"SE IGNORA\"])\n",
    "dfChiapas['INMUSUPR'] = dfChiapas['INMUSUPR'].replace([\"99\"], [\"NO ESPECIFICADO\"])"
   ]
  },
  {
   "cell_type": "code",
   "execution_count": 180,
   "id": "ad14d76a",
   "metadata": {},
   "outputs": [],
   "source": [
    "dfChiapas['HIPERTENSION'] = dfChiapas['HIPERTENSION'].astype('string')\n",
    "dfChiapas['HIPERTENSION'] = dfChiapas['HIPERTENSION'].replace([\"1\"], [\"SI\"])\n",
    "dfChiapas['HIPERTENSION'] = dfChiapas['HIPERTENSION'].replace([\"2\"], [\"NO\"])\n",
    "dfChiapas['HIPERTENSION'] = dfChiapas['HIPERTENSION'].replace([\"97\"], [\"NO APLICA\"])\n",
    "dfChiapas['HIPERTENSION'] = dfChiapas['HIPERTENSION'].replace([\"98\"], [\"SE IGNORA\"])\n",
    "dfChiapas['HIPERTENSION'] = dfChiapas['HIPERTENSION'].replace([\"99\"], [\"NO ESPECIFICADO\"])"
   ]
  },
  {
   "cell_type": "code",
   "execution_count": 181,
   "id": "92b24441",
   "metadata": {},
   "outputs": [],
   "source": [
    "dfChiapas['OTRA_COM'] = dfChiapas['OTRA_COM'].astype('string')\n",
    "dfChiapas['OTRA_COM'] = dfChiapas['OTRA_COM'].replace([\"1\"], [\"SI\"])\n",
    "dfChiapas['OTRA_COM'] = dfChiapas['OTRA_COM'].replace([\"2\"], [\"NO\"])\n",
    "dfChiapas['OTRA_COM'] = dfChiapas['OTRA_COM'].replace([\"97\"], [\"NO APLICA\"])\n",
    "dfChiapas['OTRA_COM'] = dfChiapas['OTRA_COM'].replace([\"98\"], [\"SE IGNORA\"])\n",
    "dfChiapas['OTRA_COM'] = dfChiapas['OTRA_COM'].replace([\"99\"], [\"NO ESPECIFICADO\"])"
   ]
  },
  {
   "cell_type": "code",
   "execution_count": 182,
   "id": "00398245",
   "metadata": {},
   "outputs": [],
   "source": [
    "dfChiapas['CARDIOVASCULAR'] = dfChiapas['CARDIOVASCULAR'].astype('string')\n",
    "dfChiapas['CARDIOVASCULAR'] = dfChiapas['CARDIOVASCULAR'].replace([\"1\"], [\"SI\"])\n",
    "dfChiapas['CARDIOVASCULAR'] = dfChiapas['CARDIOVASCULAR'].replace([\"2\"], [\"NO\"])\n",
    "dfChiapas['CARDIOVASCULAR'] = dfChiapas['CARDIOVASCULAR'].replace([\"97\"], [\"NO APLICA\"])\n",
    "dfChiapas['CARDIOVASCULAR'] = dfChiapas['CARDIOVASCULAR'].replace([\"98\"], [\"SE IGNORA\"])\n",
    "dfChiapas['CARDIOVASCULAR'] = dfChiapas['CARDIOVASCULAR'].replace([\"99\"], [\"NO ESPECIFICADO\"])"
   ]
  },
  {
   "cell_type": "code",
   "execution_count": 183,
   "id": "9597817f",
   "metadata": {},
   "outputs": [],
   "source": [
    "dfChiapas['OBESIDAD'] = dfChiapas['OBESIDAD'].astype('string')\n",
    "dfChiapas['OBESIDAD'] = dfChiapas['OBESIDAD'].replace([\"1\"], [\"SI\"])\n",
    "dfChiapas['OBESIDAD'] = dfChiapas['OBESIDAD'].replace([\"2\"], [\"NO\"])\n",
    "dfChiapas['OBESIDAD'] = dfChiapas['OBESIDAD'].replace([\"97\"], [\"NO APLICA\"])\n",
    "dfChiapas['OBESIDAD'] = dfChiapas['OBESIDAD'].replace([\"98\"], [\"SE IGNORA\"])\n",
    "dfChiapas['OBESIDAD'] = dfChiapas['OBESIDAD'].replace([\"99\"], [\"NO ESPECIFICADO\"])"
   ]
  },
  {
   "cell_type": "code",
   "execution_count": 184,
   "id": "fe1fbc5d",
   "metadata": {},
   "outputs": [],
   "source": [
    "dfChiapas['RENAL_CRONICA'] = dfChiapas['RENAL_CRONICA'].astype('string')\n",
    "dfChiapas['RENAL_CRONICA'] = dfChiapas['RENAL_CRONICA'].replace([\"1\"], [\"SI\"])\n",
    "dfChiapas['RENAL_CRONICA'] = dfChiapas['RENAL_CRONICA'].replace([\"2\"], [\"NO\"])\n",
    "dfChiapas['RENAL_CRONICA'] = dfChiapas['RENAL_CRONICA'].replace([\"97\"], [\"NO APLICA\"])\n",
    "dfChiapas['RENAL_CRONICA'] = dfChiapas['RENAL_CRONICA'].replace([\"98\"], [\"SE IGNORA\"])\n",
    "dfChiapas['RENAL_CRONICA'] = dfChiapas['RENAL_CRONICA'].replace([\"99\"], [\"NO ESPECIFICADO\"])"
   ]
  },
  {
   "cell_type": "code",
   "execution_count": 185,
   "id": "593c2508",
   "metadata": {},
   "outputs": [],
   "source": [
    "dfChiapas['TABAQUISMO'] = dfChiapas['TABAQUISMO'].astype('string')\n",
    "dfChiapas['TABAQUISMO'] = dfChiapas['TABAQUISMO'].replace([\"1\"], [\"SI\"])\n",
    "dfChiapas['TABAQUISMO'] = dfChiapas['TABAQUISMO'].replace([\"2\"], [\"NO\"])\n",
    "dfChiapas['TABAQUISMO'] = dfChiapas['TABAQUISMO'].replace([\"97\"], [\"NO APLICA\"])\n",
    "dfChiapas['TABAQUISMO'] = dfChiapas['TABAQUISMO'].replace([\"98\"], [\"SE IGNORA\"])\n",
    "dfChiapas['TABAQUISMO'] = dfChiapas['TABAQUISMO'].replace([\"99\"], [\"NO ESPECIFICADO\"])"
   ]
  },
  {
   "cell_type": "code",
   "execution_count": 186,
   "id": "e724e403",
   "metadata": {},
   "outputs": [],
   "source": [
    "dfChiapas['OTRO_CASO'] = dfChiapas['OTRO_CASO'].astype('string')\n",
    "dfChiapas['OTRO_CASO'] = dfChiapas['OTRO_CASO'].replace([\"1\"], [\"SI\"])\n",
    "dfChiapas['OTRO_CASO'] = dfChiapas['OTRO_CASO'].replace([\"2\"], [\"NO\"])\n",
    "dfChiapas['OTRO_CASO'] = dfChiapas['OTRO_CASO'].replace([\"97\"], [\"NO APLICA\"])\n",
    "dfChiapas['OTRO_CASO'] = dfChiapas['OTRO_CASO'].replace([\"98\"], [\"SE IGNORA\"])\n",
    "dfChiapas['OTRO_CASO'] = dfChiapas['OTRO_CASO'].replace([\"99\"], [\"NO ESPECIFICADO\"])"
   ]
  },
  {
   "cell_type": "code",
   "execution_count": 187,
   "id": "04d17899",
   "metadata": {},
   "outputs": [],
   "source": [
    "dfChiapas['UCI'] = dfChiapas['UCI'].astype('string')\n",
    "dfChiapas['UCI'] = dfChiapas['UCI'].replace([\"1\"], [\"SI\"])\n",
    "dfChiapas['UCI'] = dfChiapas['UCI'].replace([\"2\"], [\"NO\"])\n",
    "dfChiapas['UCI'] = dfChiapas['UCI'].replace([\"97\"], [\"NO APLICA\"])\n",
    "dfChiapas['UCI'] = dfChiapas['UCI'].replace([\"98\"], [\"SE IGNORA\"])\n",
    "dfChiapas['UCI'] = dfChiapas['UCI'].replace([\"99\"], [\"NO ESPECIFICADO\"])"
   ]
  },
  {
   "cell_type": "code",
   "execution_count": 188,
   "id": "38f3b1f4",
   "metadata": {},
   "outputs": [],
   "source": [
    "dfChiapas['MIGRANTE'] = dfChiapas['MIGRANTE'].astype('string')\n",
    "dfChiapas['MIGRANTE'] = dfChiapas['MIGRANTE'].replace([\"1\"], [\"SI\"])\n",
    "dfChiapas['MIGRANTE'] = dfChiapas['MIGRANTE'].replace([\"2\"], [\"NO\"])\n",
    "dfChiapas['MIGRANTE'] = dfChiapas['MIGRANTE'].replace([\"97\"], [\"NO APLICA\"])\n",
    "dfChiapas['MIGRANTE'] = dfChiapas['MIGRANTE'].replace([\"98\"], [\"SE IGNORA\"])\n",
    "dfChiapas['MIGRANTE'] = dfChiapas['MIGRANTE'].replace([\"99\"], [\"NO ESPECIFICADO\"])"
   ]
  },
  {
   "cell_type": "code",
   "execution_count": null,
   "id": "3506ad1b",
   "metadata": {},
   "outputs": [],
   "source": []
  },
  {
   "cell_type": "code",
   "execution_count": null,
   "id": "ab9d06fe",
   "metadata": {},
   "outputs": [],
   "source": []
  },
  {
   "cell_type": "code",
   "execution_count": 189,
   "id": "e2a539ec",
   "metadata": {},
   "outputs": [],
   "source": [
    "dfChiapas['TOMA_MUESTRA_LAB'] = dfChiapas['TOMA_MUESTRA_LAB'].astype('string')\n",
    "dfChiapas['TOMA_MUESTRA_LAB'] = dfChiapas['TOMA_MUESTRA_LAB'].replace([\"1\"], [\"SI\"])\n",
    "dfChiapas['TOMA_MUESTRA_LAB'] = dfChiapas['TOMA_MUESTRA_LAB'].replace([\"2\"], [\"NO\"])\n",
    "dfChiapas['TOMA_MUESTRA_LAB'] = dfChiapas['TOMA_MUESTRA_LAB'].replace([\"97\"], [\"NO APLICA\"])\n",
    "dfChiapas['TOMA_MUESTRA_LAB'] = dfChiapas['TOMA_MUESTRA_LAB'].replace([\"98\"], [\"SE IGNORA\"])\n",
    "dfChiapas['TOMA_MUESTRA_LAB'] = dfChiapas['TOMA_MUESTRA_LAB'].replace([\"99\"], [\"NO ESPECIFICADO\"])"
   ]
  },
  {
   "cell_type": "code",
   "execution_count": 190,
   "id": "cfda5318",
   "metadata": {},
   "outputs": [],
   "source": [
    "dfChiapas['TOMA_MUESTRA_ANTIGENO'] = dfChiapas['TOMA_MUESTRA_ANTIGENO'].astype('string')\n",
    "dfChiapas['TOMA_MUESTRA_ANTIGENO'] = dfChiapas['TOMA_MUESTRA_ANTIGENO'].replace([\"1\"], [\"SI\"])\n",
    "dfChiapas['TOMA_MUESTRA_ANTIGENO'] = dfChiapas['TOMA_MUESTRA_ANTIGENO'].replace([\"2\"], [\"NO\"])\n",
    "dfChiapas['TOMA_MUESTRA_ANTIGENO'] = dfChiapas['TOMA_MUESTRA_ANTIGENO'].replace([\"97\"], [\"NO APLICA\"])\n",
    "dfChiapas['TOMA_MUESTRA_ANTIGENO'] = dfChiapas['TOMA_MUESTRA_ANTIGENO'].replace([\"98\"], [\"SE IGNORA\"])\n",
    "dfChiapas['TOMA_MUESTRA_ANTIGENO'] = dfChiapas['TOMA_MUESTRA_ANTIGENO'].replace([\"99\"], [\"NO ESPECIFICADO\"])"
   ]
  },
  {
   "cell_type": "code",
   "execution_count": null,
   "id": "b8b35419",
   "metadata": {},
   "outputs": [],
   "source": []
  },
  {
   "cell_type": "code",
   "execution_count": 191,
   "id": "24291d02",
   "metadata": {
    "scrolled": true
   },
   "outputs": [
    {
     "name": "stdout",
     "output_type": "stream",
     "text": [
      "       FECHA_ACTUALIZACION ID_REGISTRO          ORIGEN SECTOR  ENTIDAD_UM  \\\n",
      "0               2022-04-30      z53e08           USMER    SSA          13   \n",
      "1               2022-04-30      0aefba           USMER    SSA          13   \n",
      "2               2022-04-30      z28457           USMER    SSA           9   \n",
      "3               2022-04-30      136408           USMER    SSA          13   \n",
      "4               2022-04-30      0dbfb5           USMER    SSA          13   \n",
      "...                    ...         ...             ...    ...         ...   \n",
      "263357          2022-04-30     m124b79  FUERA DE USMER    SSA          15   \n",
      "263358          2022-04-30     m17d185  FUERA DE USMER    SSA          15   \n",
      "263359          2022-04-30     m0b3ccc  FUERA DE USMER    SSA          15   \n",
      "263360          2022-04-30     m131c0e  FUERA DE USMER    SSA          15   \n",
      "263361          2022-04-30     m11f655  FUERA DE USMER    SSA          15   \n",
      "\n",
      "             SEXO  ENTIDAD_NAC  ENTIDAD_RES  MUNICIPIO_RES TIPO_PACIENTE  ...  \\\n",
      "0       Masculino           28           13             48   AMBULATORIO  ...   \n",
      "1        Femenino           13           13             48   AMBULATORIO  ...   \n",
      "2        Femenino           13            9              7   AMBULATORIO  ...   \n",
      "3       Masculino           13           13             48   AMBULATORIO  ...   \n",
      "4        Femenino           30           13             29   AMBULATORIO  ...   \n",
      "...           ...          ...          ...            ...           ...  ...   \n",
      "263357   Femenino           13           15            999   AMBULATORIO  ...   \n",
      "263358   Femenino           13           15            999   AMBULATORIO  ...   \n",
      "263359   Femenino           13           15            999   AMBULATORIO  ...   \n",
      "263360  Masculino           13           15            999   AMBULATORIO  ...   \n",
      "263361  Masculino           13           15            999   AMBULATORIO  ...   \n",
      "\n",
      "              OTRO_CASO TOMA_MUESTRA_LAB                 RESULTADO_LAB  \\\n",
      "0                    SI               SI      NO POSITIVO A SARS-COV-2   \n",
      "1       NO ESPECIFICADO               SI         POSITIVO A SARS-COV-2   \n",
      "2                    SI               SI      NO POSITIVO A SARS-COV-2   \n",
      "3                    SI               SI         POSITIVO A SARS-COV-2   \n",
      "4                    NO               SI      NO POSITIVO A SARS-COV-2   \n",
      "...                 ...              ...                           ...   \n",
      "263357  NO ESPECIFICADO               NO  NO APLICA (CASO SIN MUESTRA)   \n",
      "263358  NO ESPECIFICADO               NO  NO APLICA (CASO SIN MUESTRA)   \n",
      "263359  NO ESPECIFICADO               NO  NO APLICA (CASO SIN MUESTRA)   \n",
      "263360  NO ESPECIFICADO               NO  NO APLICA (CASO SIN MUESTRA)   \n",
      "263361  NO ESPECIFICADO               NO  NO APLICA (CASO SIN MUESTRA)   \n",
      "\n",
      "       TOMA_MUESTRA_ANTIGENO            RESULTADO_ANTIGENO  \\\n",
      "0                         NO  NO APLICA (CASO SIN MUESTRA)   \n",
      "1                         NO  NO APLICA (CASO SIN MUESTRA)   \n",
      "2                         NO  NO APLICA (CASO SIN MUESTRA)   \n",
      "3                         NO  NO APLICA (CASO SIN MUESTRA)   \n",
      "4                         NO  NO APLICA (CASO SIN MUESTRA)   \n",
      "...                      ...                           ...   \n",
      "263357                    NO  NO APLICA (CASO SIN MUESTRA)   \n",
      "263358                    NO  NO APLICA (CASO SIN MUESTRA)   \n",
      "263359                    NO  NO APLICA (CASO SIN MUESTRA)   \n",
      "263360                    NO  NO APLICA (CASO SIN MUESTRA)   \n",
      "263361                    NO  NO APLICA (CASO SIN MUESTRA)   \n",
      "\n",
      "                   CLASIFICACION_FINAL         MIGRANTE PAIS_NACIONALIDAD  \\\n",
      "0                NEGATIVO A SARS-COV-2  NO ESPECIFICADO            México   \n",
      "1       CASO DE SARS-COV-2  CONFIRMADO  NO ESPECIFICADO            México   \n",
      "2                NEGATIVO A SARS-COV-2  NO ESPECIFICADO            México   \n",
      "3       CASO DE SARS-COV-2  CONFIRMADO  NO ESPECIFICADO            México   \n",
      "4                NEGATIVO A SARS-COV-2  NO ESPECIFICADO            México   \n",
      "...                                ...              ...               ...   \n",
      "263357                 CASO SOSPECHOSO  NO ESPECIFICADO            México   \n",
      "263358                 CASO SOSPECHOSO  NO ESPECIFICADO            México   \n",
      "263359                 CASO SOSPECHOSO  NO ESPECIFICADO            México   \n",
      "263360                 CASO SOSPECHOSO  NO ESPECIFICADO            México   \n",
      "263361                 CASO SOSPECHOSO  NO ESPECIFICADO            México   \n",
      "\n",
      "       PAIS_ORIGEN        UCI  \n",
      "0               97  NO APLICA  \n",
      "1               97  NO APLICA  \n",
      "2               97  NO APLICA  \n",
      "3               97  NO APLICA  \n",
      "4               97  NO APLICA  \n",
      "...            ...        ...  \n",
      "263357          97  NO APLICA  \n",
      "263358          97  NO APLICA  \n",
      "263359          97  NO APLICA  \n",
      "263360          97  NO APLICA  \n",
      "263361          97  NO APLICA  \n",
      "\n",
      "[263362 rows x 40 columns]\n"
     ]
    }
   ],
   "source": [
    "print(dfChiapas)"
   ]
  },
  {
   "cell_type": "code",
   "execution_count": null,
   "id": "e3af5f0d",
   "metadata": {},
   "outputs": [],
   "source": [
    "dfChiapas[''] = dfChiapas[''].astype('string')\n",
    "dfChiapas[''] = dfChiapas[''].replace([\"1\"], [\"SI\"])\n",
    "dfChiapas[''] = dfChiapas[''].replace([\"2\"], [\"NO\"])\n",
    "dfChiapas[''] = dfChiapas[''].replace([\"97\"], [\"NO APLICA\"])\n",
    "dfChiapas[''] = dfChiapas[''].replace([\"98\"], [\"SE IGNORA\"])\n",
    "dfChiapas[''] = dfChiapas[''].replace([\"99\"], [\"NO ESPECIFICADO\"])"
   ]
  },
  {
   "cell_type": "code",
   "execution_count": 193,
   "id": "1aa27e3b",
   "metadata": {},
   "outputs": [],
   "source": [
    "dfChiapas.to_csv(path + \"HidalgoDB.csv\",index=False)"
   ]
  },
  {
   "cell_type": "code",
   "execution_count": null,
   "id": "b4fc6c34",
   "metadata": {},
   "outputs": [],
   "source": []
  },
  {
   "cell_type": "code",
   "execution_count": null,
   "id": "e1b01bed",
   "metadata": {},
   "outputs": [],
   "source": []
  },
  {
   "cell_type": "code",
   "execution_count": null,
   "id": "52511b60",
   "metadata": {},
   "outputs": [],
   "source": []
  },
  {
   "cell_type": "code",
   "execution_count": null,
   "id": "3a1eb420",
   "metadata": {},
   "outputs": [],
   "source": []
  },
  {
   "cell_type": "code",
   "execution_count": null,
   "id": "daa376cf",
   "metadata": {},
   "outputs": [],
   "source": []
  },
  {
   "cell_type": "code",
   "execution_count": null,
   "id": "908bfa73",
   "metadata": {},
   "outputs": [],
   "source": []
  },
  {
   "cell_type": "code",
   "execution_count": null,
   "id": "2aed1190",
   "metadata": {},
   "outputs": [],
   "source": []
  },
  {
   "cell_type": "code",
   "execution_count": null,
   "id": "2a559a1e",
   "metadata": {},
   "outputs": [],
   "source": []
  },
  {
   "cell_type": "code",
   "execution_count": null,
   "id": "cf359a2f",
   "metadata": {},
   "outputs": [],
   "source": []
  },
  {
   "cell_type": "code",
   "execution_count": null,
   "id": "c517fe70",
   "metadata": {},
   "outputs": [],
   "source": []
  }
 ],
 "metadata": {
  "kernelspec": {
   "display_name": "Python 3 (ipykernel)",
   "language": "python",
   "name": "python3"
  },
  "language_info": {
   "codemirror_mode": {
    "name": "ipython",
    "version": 3
   },
   "file_extension": ".py",
   "mimetype": "text/x-python",
   "name": "python",
   "nbconvert_exporter": "python",
   "pygments_lexer": "ipython3",
   "version": "3.9.12"
  }
 },
 "nbformat": 4,
 "nbformat_minor": 5
}
